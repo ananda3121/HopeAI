{
 "cells": [
  {
   "cell_type": "code",
   "execution_count": 2,
   "id": "e4b6bef1-271f-49c6-bb84-5c324e1dc0ef",
   "metadata": {},
   "outputs": [],
   "source": [
    "from MultipleFunctions import MultipleFunctions"
   ]
  },
  {
   "cell_type": "code",
   "execution_count": 3,
   "id": "08c793c6-e852-44bf-8faa-e523742d42f8",
   "metadata": {},
   "outputs": [
    {
     "name": "stdout",
     "output_type": "stream",
     "text": [
      "Sub Fields in AI are :\n",
      "Machine Learning\n",
      "Neural Networks\n",
      "Vision\n",
      "Robotics\n",
      "Speech Processing\n",
      "Natural Language Processing\n"
     ]
    }
   ],
   "source": [
    "MultipleFunctions.subFields()"
   ]
  },
  {
   "cell_type": "code",
   "execution_count": 6,
   "id": "b8783a1b-be30-49a9-b755-c5517f480de4",
   "metadata": {},
   "outputs": [
    {
     "name": "stdin",
     "output_type": "stream",
     "text": [
      "Enter the number  13\n"
     ]
    },
    {
     "name": "stdout",
     "output_type": "stream",
     "text": [
      "13  is odd\n"
     ]
    }
   ],
   "source": [
    "num= int(input(\"Enter the number \"))\n",
    "MultipleFunctions.oddorEven(num)"
   ]
  },
  {
   "cell_type": "code",
   "execution_count": 7,
   "id": "70f9f4a4-52ad-498b-ac9b-b4b3ba078589",
   "metadata": {},
   "outputs": [
    {
     "name": "stdin",
     "output_type": "stream",
     "text": [
      "Enter your gender (Male/Female):  Male\n",
      "Enter your age:  16\n"
     ]
    },
    {
     "name": "stdout",
     "output_type": "stream",
     "text": [
      "NOT ELIGIBLE\n"
     ]
    }
   ],
   "source": [
    "gender_input = input(\"Enter your gender (Male/Female): \")\n",
    "age_input = int(input(\"Enter your age: \"))\n",
    "\n",
    "result = MultipleFunctions.eligible(gender_input, age_input)\n",
    "print(result)"
   ]
  },
  {
   "cell_type": "code",
   "execution_count": 8,
   "id": "134fee1d-12db-49c1-9d20-074b859ec4a3",
   "metadata": {},
   "outputs": [
    {
     "name": "stdout",
     "output_type": "stream",
     "text": [
      "Subject1 = 98\n",
      "Subject2 = 87\n",
      "Subject3 = 95\n",
      "Subject4 = 95\n",
      "Subject5 = 93\n",
      "Total : 468\n",
      "Percentage : 93.60\n"
     ]
    }
   ],
   "source": [
    "marks = [98, 87, 95, 95, 93]\n",
    "MultipleFunctions.percentage(marks)"
   ]
  },
  {
   "cell_type": "code",
   "execution_count": null,
   "id": "5919e0f5-fe91-48a3-99f4-10f9bc483976",
   "metadata": {},
   "outputs": [],
   "source": []
  }
 ],
 "metadata": {
  "kernelspec": {
   "display_name": "Python [conda env:base] *",
   "language": "python",
   "name": "conda-base-py"
  },
  "language_info": {
   "codemirror_mode": {
    "name": "ipython",
    "version": 3
   },
   "file_extension": ".py",
   "mimetype": "text/x-python",
   "name": "python",
   "nbconvert_exporter": "python",
   "pygments_lexer": "ipython3",
   "version": "3.13.5"
  }
 },
 "nbformat": 4,
 "nbformat_minor": 5
}
