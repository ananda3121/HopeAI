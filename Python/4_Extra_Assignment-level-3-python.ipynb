{
 "cells": [
  {
   "cell_type": "code",
   "execution_count": 2,
   "id": "e71feb35-798e-48dd-9131-6b5f8fe24aa6",
   "metadata": {},
   "outputs": [
    {
     "name": "stdin",
     "output_type": "stream",
     "text": [
      "value:  10\n"
     ]
    },
    {
     "name": "stdout",
     "output_type": "stream",
     "text": [
      "Correct\n"
     ]
    }
   ],
   "source": [
    "i= int(input(\"value: \"))\n",
    "if i == 10:\n",
    "\tprint(\"Correct\")"
   ]
  },
  {
   "cell_type": "code",
   "execution_count": 5,
   "id": "35ad9c80-6434-422b-a1a6-842adff6c64d",
   "metadata": {},
   "outputs": [
    {
     "name": "stdin",
     "output_type": "stream",
     "text": [
      "Enter the password:  Anand\n"
     ]
    },
    {
     "name": "stdout",
     "output_type": "stream",
     "text": [
      "Wrong\n"
     ]
    }
   ],
   "source": [
    "password = input(\"Enter the password: \")\n",
    "if \"HOPE@123\" == password:\n",
    "\tprint(\"Correct\")\n",
    "else:\n",
    "\tprint(\"Wrong\")"
   ]
  },
  {
   "cell_type": "code",
   "execution_count": 8,
   "id": "ee094569-ed29-4024-9192-c561b07a768b",
   "metadata": {},
   "outputs": [
    {
     "name": "stdin",
     "output_type": "stream",
     "text": [
      "age:  32\n"
     ]
    },
    {
     "name": "stdout",
     "output_type": "stream",
     "text": [
      "Adult\n"
     ]
    }
   ],
   "source": [
    "age = int(input(\"age: \"))\n",
    "if age < 0:\n",
    "\tprint(\"Invalid age\")\n",
    "elif age <= 12:\n",
    "\tprint(\"Children\")\n",
    "elif age <= 59:\n",
    "\tprint(\"Adult\")\n",
    "elif age <= 74:\n",
    "\tprint(\"Senior Citizen\")\n",
    "else:\n",
    "\tprint(\"Elderly\")"
   ]
  },
  {
   "cell_type": "code",
   "execution_count": 9,
   "id": "9b1b5384-7a5a-4939-badf-2ebcb9ac5e50",
   "metadata": {},
   "outputs": [
    {
     "name": "stdin",
     "output_type": "stream",
     "text": [
      "Enter any number:  10\n"
     ]
    },
    {
     "name": "stdout",
     "output_type": "stream",
     "text": [
      "No is positive\n"
     ]
    }
   ],
   "source": [
    "num = int(input(\"Enter any number: \"))\n",
    "if num < 0:\n",
    "\tprint(\"No is Negative\")\n",
    "else:\n",
    "\tprint(\"No is positive\")"
   ]
  },
  {
   "cell_type": "code",
   "execution_count": 11,
   "id": "9c60a9fd-d0d7-4808-8aae-36301e377152",
   "metadata": {},
   "outputs": [
    {
     "name": "stdin",
     "output_type": "stream",
     "text": [
      "Enter a number to check:  24\n"
     ]
    },
    {
     "name": "stdout",
     "output_type": "stream",
     "text": [
      "Not divisible by 5\n"
     ]
    }
   ],
   "source": [
    "num = int(input(\"Enter a number to check: \"))\n",
    "if num % 5 == 0:\n",
    "\tprint(\"Divisible by 5\")\n",
    "else:\n",
    "\tprint(\"Not divisible by 5\")"
   ]
  },
  {
   "cell_type": "code",
   "execution_count": null,
   "id": "be66ad51-316e-4fe3-9fc6-7bdb1043dbb9",
   "metadata": {},
   "outputs": [],
   "source": []
  }
 ],
 "metadata": {
  "kernelspec": {
   "display_name": "Python [conda env:base] *",
   "language": "python",
   "name": "conda-base-py"
  },
  "language_info": {
   "codemirror_mode": {
    "name": "ipython",
    "version": 3
   },
   "file_extension": ".py",
   "mimetype": "text/x-python",
   "name": "python",
   "nbconvert_exporter": "python",
   "pygments_lexer": "ipython3",
   "version": "3.13.5"
  }
 },
 "nbformat": 4,
 "nbformat_minor": 5
}
