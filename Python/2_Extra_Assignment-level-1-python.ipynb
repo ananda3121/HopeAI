{
 "cells": [
  {
   "cell_type": "code",
   "execution_count": 1,
   "id": "baf0fc3d-ce2b-42b7-9f6f-2eb95b2a4964",
   "metadata": {},
   "outputs": [
    {
     "name": "stdout",
     "output_type": "stream",
     "text": [
      "HOPE AI\n"
     ]
    }
   ],
   "source": [
    "print(\"HOPE AI\")"
   ]
  },
  {
   "cell_type": "code",
   "execution_count": 3,
   "id": "987b7d05-3757-4b6d-b8ef-bf99fd59de2b",
   "metadata": {},
   "outputs": [
    {
     "name": "stdin",
     "output_type": "stream",
     "text": [
      "Enter your institute name? :  HOPE AI\n"
     ]
    },
    {
     "name": "stdout",
     "output_type": "stream",
     "text": [
      "HOPE AI\n"
     ]
    }
   ],
   "source": [
    "print(input(\"Enter your institute name? : \"))"
   ]
  },
  {
   "cell_type": "code",
   "execution_count": 4,
   "id": "e7384349-7db9-4b63-995a-15c80b0d348f",
   "metadata": {},
   "outputs": [
    {
     "name": "stdin",
     "output_type": "stream",
     "text": [
      "Enter your name:  Anand\n"
     ]
    },
    {
     "name": "stdout",
     "output_type": "stream",
     "text": [
      "Anand\n"
     ]
    },
    {
     "name": "stdin",
     "output_type": "stream",
     "text": [
      "Enter your age:  29\n"
     ]
    },
    {
     "name": "stdout",
     "output_type": "stream",
     "text": [
      "29\n"
     ]
    },
    {
     "name": "stdin",
     "output_type": "stream",
     "text": [
      "Enter your school name:  KMHSS\n"
     ]
    },
    {
     "name": "stdout",
     "output_type": "stream",
     "text": [
      "KMHSS\n"
     ]
    },
    {
     "name": "stdin",
     "output_type": "stream",
     "text": [
      "Enter your degree:  B.Tech IT\n"
     ]
    },
    {
     "name": "stdout",
     "output_type": "stream",
     "text": [
      "B.Tech IT\n"
     ]
    }
   ],
   "source": [
    "print(input(\"Enter your name: \"))\n",
    "print(input(\"Enter your age: \"))\n",
    "print(input(\"Enter your school name: \"))\n",
    "print(input(\"Enter your degree: \"))"
   ]
  },
  {
   "cell_type": "code",
   "execution_count": 6,
   "id": "c9cc8743-ba75-472f-a94f-848c7db855c6",
   "metadata": {},
   "outputs": [
    {
     "name": "stdin",
     "output_type": "stream",
     "text": [
      "a=  10\n",
      "b=  20\n"
     ]
    },
    {
     "name": "stdout",
     "output_type": "stream",
     "text": [
      "add =  30\n"
     ]
    }
   ],
   "source": [
    "a= int(input(\"a= \"))\n",
    "b= int(input(\"b= \"))\n",
    "print(\"add = \", a+b)"
   ]
  },
  {
   "cell_type": "code",
   "execution_count": 7,
   "id": "e6a8e30d-5763-4354-9d8d-1cd45ec62f34",
   "metadata": {},
   "outputs": [
    {
     "name": "stdin",
     "output_type": "stream",
     "text": [
      "a=  30\n",
      "b=  20\n"
     ]
    },
    {
     "name": "stdout",
     "output_type": "stream",
     "text": [
      "Sub =  10\n"
     ]
    }
   ],
   "source": [
    "a= int(input(\"a= \"))\n",
    "b= int(input(\"b= \"))\n",
    "print(\"Sub = \", a-b)"
   ]
  },
  {
   "cell_type": "code",
   "execution_count": 8,
   "id": "35e5f077-69d5-4d17-b2dd-1c986aa59cf5",
   "metadata": {},
   "outputs": [
    {
     "name": "stdin",
     "output_type": "stream",
     "text": [
      "a=  10\n",
      "b=  20\n"
     ]
    },
    {
     "name": "stdout",
     "output_type": "stream",
     "text": [
      "Mul =  200\n"
     ]
    }
   ],
   "source": [
    "a= int(input(\"a= \"))\n",
    "b= int(input(\"b= \"))\n",
    "print(\"Mul = \", a*b)"
   ]
  },
  {
   "cell_type": "code",
   "execution_count": 9,
   "id": "272de972-b35f-42bb-a954-859a57c95301",
   "metadata": {},
   "outputs": [
    {
     "name": "stdin",
     "output_type": "stream",
     "text": [
      "a=  76\n",
      "b=  31\n"
     ]
    },
    {
     "name": "stdout",
     "output_type": "stream",
     "text": [
      "Float Div =  2.4516129032258065\n"
     ]
    }
   ],
   "source": [
    "a= float(input(\"a= \"))\n",
    "b= float(input(\"b= \"))\n",
    "print(\"Float Div = \", a/b)"
   ]
  },
  {
   "cell_type": "code",
   "execution_count": 10,
   "id": "66b3fbe6-9e5e-4d68-8161-63be0c7139cb",
   "metadata": {},
   "outputs": [
    {
     "name": "stdin",
     "output_type": "stream",
     "text": [
      "a=  76\n",
      "b=  31\n"
     ]
    },
    {
     "name": "stdout",
     "output_type": "stream",
     "text": [
      "Floor Div =  2.0\n"
     ]
    }
   ],
   "source": [
    "a= float(input(\"a= \"))\n",
    "b= float(input(\"b= \"))\n",
    "print(\"Floor Div = \", a//b)"
   ]
  },
  {
   "cell_type": "code",
   "execution_count": 11,
   "id": "cdcd9eb6-47e5-4cca-9a46-832e5d5bf6f7",
   "metadata": {},
   "outputs": [
    {
     "name": "stdin",
     "output_type": "stream",
     "text": [
      "a=  10\n",
      "b=  2\n"
     ]
    },
    {
     "name": "stdout",
     "output_type": "stream",
     "text": [
      "Modulo =  0.0\n"
     ]
    }
   ],
   "source": [
    "a= float(input(\"a= \"))\n",
    "b= float(input(\"b= \"))\n",
    "print(\"Modulo = \", a%b)"
   ]
  },
  {
   "cell_type": "code",
   "execution_count": 12,
   "id": "92a525d7-0065-4ef5-8df0-fb8083eee828",
   "metadata": {},
   "outputs": [
    {
     "name": "stdin",
     "output_type": "stream",
     "text": [
      "a=  3\n",
      "b=  3\n"
     ]
    },
    {
     "name": "stdout",
     "output_type": "stream",
     "text": [
      "Power =  9.0\n"
     ]
    }
   ],
   "source": [
    "a= float(input(\"a= \"))\n",
    "b= float(input(\"b= \"))\n",
    "print(\"Power = \", a*b)"
   ]
  },
  {
   "cell_type": "code",
   "execution_count": null,
   "id": "4465be9e-afb4-416d-a498-d9a376e4a310",
   "metadata": {},
   "outputs": [],
   "source": []
  }
 ],
 "metadata": {
  "kernelspec": {
   "display_name": "Python [conda env:base] *",
   "language": "python",
   "name": "conda-base-py"
  },
  "language_info": {
   "codemirror_mode": {
    "name": "ipython",
    "version": 3
   },
   "file_extension": ".py",
   "mimetype": "text/x-python",
   "name": "python",
   "nbconvert_exporter": "python",
   "pygments_lexer": "ipython3",
   "version": "3.13.5"
  }
 },
 "nbformat": 4,
 "nbformat_minor": 5
}
