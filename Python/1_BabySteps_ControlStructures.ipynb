{
 "cells": [
  {
   "cell_type": "raw",
   "id": "af7351f2-316e-49c7-abc4-bbc39a7fb6b9",
   "metadata": {},
   "source": []
  },
  {
   "cell_type": "code",
   "execution_count": 1,
   "id": "03565b94-3119-412e-b616-d0b19f4b16a5",
   "metadata": {},
   "outputs": [
    {
     "name": "stdout",
     "output_type": "stream",
     "text": [
      "Welcome to Assignment-1\n"
     ]
    }
   ],
   "source": [
    "print(\"Welcome to Assignment-1\")"
   ]
  },
  {
   "cell_type": "code",
   "execution_count": 4,
   "id": "2f2e62a4-b153-44a2-bcff-29b2f83d8954",
   "metadata": {},
   "outputs": [
    {
     "name": "stdin",
     "output_type": "stream",
     "text": [
      "Num1=  10\n",
      "Num2=  30\n"
     ]
    },
    {
     "name": "stdout",
     "output_type": "stream",
     "text": [
      "Add=  40\n"
     ]
    }
   ],
   "source": [
    "Num1 = int(input(\"Num1= \"))\n",
    "Num2 = int(input(\"Num2= \"))\n",
    "print(\"Add= \", Num1 + Num2)"
   ]
  },
  {
   "cell_type": "code",
   "execution_count": 9,
   "id": "d2858338-b88b-4289-a15c-b0421a9b833e",
   "metadata": {},
   "outputs": [
    {
     "name": "stdin",
     "output_type": "stream",
     "text": [
      "Enter the BMI Index  34\n"
     ]
    },
    {
     "name": "stdout",
     "output_type": "stream",
     "text": [
      "Very Overweight\n"
     ]
    }
   ],
   "source": [
    "weight = float(input(\"Enter the BMI Index \"))\n",
    "if weight < 18.5:\n",
    "\tprint(\"Underweight\")\n",
    "elif weight > 18.5 and weight < 22.9:\n",
    "\tprint(\"Normal\")\n",
    "elif weight > 23 and weight < 29.9:\n",
    "\tprint(\"Obese\")\n",
    "else:\n",
    "\tprint(\"Very Overweight\")"
   ]
  },
  {
   "cell_type": "code",
   "execution_count": null,
   "id": "7da0ce9e-ea7f-4e33-be77-d5dd6150aec8",
   "metadata": {},
   "outputs": [],
   "source": []
  }
 ],
 "metadata": {
  "kernelspec": {
   "display_name": "Python [conda env:base] *",
   "language": "python",
   "name": "conda-base-py"
  },
  "language_info": {
   "codemirror_mode": {
    "name": "ipython",
    "version": 3
   },
   "file_extension": ".py",
   "mimetype": "text/x-python",
   "name": "python",
   "nbconvert_exporter": "python",
   "pygments_lexer": "ipython3",
   "version": "3.13.5"
  }
 },
 "nbformat": 4,
 "nbformat_minor": 5
}
