{
 "cells": [
  {
   "cell_type": "code",
   "execution_count": 10,
   "id": "f3c8a473-f0e9-4b0d-97e4-4a377714c9b9",
   "metadata": {},
   "outputs": [],
   "source": [
    "class SubFieldsInAI:\n",
    "    def subFields():\n",
    "        print(\"Sub Fields in AI are :\")\n",
    "        print(\"Machine Learning\")\n",
    "        print(\"Neural Networks\")\n",
    "        print(\"Vision\")\n",
    "        print(\"Robotics\")\n",
    "        print(\"Speech Processing\")\n",
    "        print(\"Natural Language Processing\")"
   ]
  },
  {
   "cell_type": "code",
   "execution_count": 8,
   "id": "85962ede-8c63-4562-8393-2e4fdcd1d324",
   "metadata": {},
   "outputs": [
    {
     "name": "stdout",
     "output_type": "stream",
     "text": [
      "Sub Fields in AI are :\n",
      "Machine Learning\n",
      "Neural Networks\n",
      "Vision\n",
      "Robotics\n",
      "Speech Processing\n",
      "Natural Language Processing\n"
     ]
    }
   ],
   "source": [
    "SubFieldsInAI.subFields()"
   ]
  },
  {
   "cell_type": "code",
   "execution_count": 12,
   "id": "f110a137-87c9-4385-bfc4-a0bfd2a8562e",
   "metadata": {},
   "outputs": [],
   "source": [
    "class OddOrEven:\n",
    "    def oddorEven(num):\n",
    "        if num%2 != 0:\n",
    "            print (num, \" is odd\")\n",
    "        else:\n",
    "            print (num, \" is even\")"
   ]
  },
  {
   "cell_type": "code",
   "execution_count": 15,
   "id": "62409752-a16e-4c1d-a550-78c07a5b2619",
   "metadata": {},
   "outputs": [
    {
     "name": "stdin",
     "output_type": "stream",
     "text": [
      "Enter the number  1566\n"
     ]
    },
    {
     "name": "stdout",
     "output_type": "stream",
     "text": [
      "1566  is even\n"
     ]
    }
   ],
   "source": [
    "num= int(input(\"Enter the number \"))\n",
    "OddOrEven.oddorEven(num)"
   ]
  },
  {
   "cell_type": "code",
   "execution_count": 16,
   "id": "17f91629-cab3-4ac2-87c7-da220b64b5f1",
   "metadata": {},
   "outputs": [],
   "source": [
    "class EligibilityForMarriage:\n",
    "    def eligible(gender, age):\n",
    "        gender = gender.lower()\n",
    "        if gender == \"male\":\n",
    "            if age >= 21:\n",
    "                return \"ELIGIBLE\"\n",
    "            else:\n",
    "                return \"NOT ELIGIBLE\"\n",
    "        elif gender == \"female\":\n",
    "            if age >= 18:\n",
    "                return \"ELIGIBLE\"\n",
    "            else:\n",
    "                return \"NOT ELIGIBLE\"\n",
    "        else:\n",
    "            return \"Invalid gender\"\n"
   ]
  },
  {
   "cell_type": "code",
   "execution_count": 17,
   "id": "48c904d0-5c4c-4f24-bd98-c303e20e6a0e",
   "metadata": {},
   "outputs": [
    {
     "name": "stdin",
     "output_type": "stream",
     "text": [
      "Enter your gender (Male/Female):  Male\n",
      "Enter your age:  32\n"
     ]
    },
    {
     "name": "stdout",
     "output_type": "stream",
     "text": [
      "ELIGIBLE\n"
     ]
    }
   ],
   "source": [
    "gender_input = input(\"Enter your gender (Male/Female): \")\n",
    "age_input = int(input(\"Enter your age: \"))\n",
    "\n",
    "result = EligibilityForMarriage.eligible(gender_input, age_input)\n",
    "print(result)\n"
   ]
  },
  {
   "cell_type": "code",
   "execution_count": 18,
   "id": "2a4692cf-1323-4970-b4b4-033e74c2e894",
   "metadata": {},
   "outputs": [],
   "source": [
    "class FindPercent:\n",
    "    def percentage(subjects):\n",
    "        total = sum(subjects)\n",
    "        percentage = (total / (len(subjects) * 100)) * 100\n",
    "        print(f\"Subject1 = {subjects[0]}\")\n",
    "        print(f\"Subject2 = {subjects[1]}\")\n",
    "        print(f\"Subject3 = {subjects[2]}\")\n",
    "        print(f\"Subject4 = {subjects[3]}\")\n",
    "        print(f\"Subject5 = {subjects[4]}\")\n",
    "        print(f\"Total : {total}\")\n",
    "        print(f\"Percentage : {percentage:.2f}\")\n"
   ]
  },
  {
   "cell_type": "code",
   "execution_count": 19,
   "id": "06e0f400-8815-452f-b357-20804614da7d",
   "metadata": {},
   "outputs": [
    {
     "name": "stdout",
     "output_type": "stream",
     "text": [
      "Subject1 = 98\n",
      "Subject2 = 87\n",
      "Subject3 = 95\n",
      "Subject4 = 95\n",
      "Subject5 = 93\n",
      "Total : 468\n",
      "Percentage : 93.60\n"
     ]
    }
   ],
   "source": [
    "marks = [98, 87, 95, 95, 93]\n",
    "FindPercent.percentage(marks)\n"
   ]
  },
  {
   "cell_type": "code",
   "execution_count": 20,
   "id": "9d9bd0f6-4414-4545-92d7-f70a3532a689",
   "metadata": {},
   "outputs": [],
   "source": [
    "class Triangle:\n",
    "    def __init__(self, height=None, breadth=None, height1=None, height2=None):\n",
    "        self.height = height\n",
    "        self.breadth = breadth\n",
    "        self.height1 = height1\n",
    "        self.height2 = height2\n",
    "\n",
    "    def calculate_area(self):\n",
    "        if self.height is not None and self.breadth is not None:\n",
    "            area = (self.height * self.breadth) / 2\n",
    "            print(f\"Height: {self.height}\")\n",
    "            print(f\"Breadth: {self.breadth}\")\n",
    "            print(\"Area formula: (Height * Breadth) / 2\")\n",
    "            print(f\"Area of Triangle: {area}\")\n",
    "        else:\n",
    "            print(\"Missing dimensions for area calculation.\")\n",
    "\n",
    "    def calculate_perimeter(self):\n",
    "        if self.height1 is not None and self.height2 is not None and self.breadth is not None:\n",
    "            perimeter = self.height1 + self.height2 + self.breadth\n",
    "            print(f\"Height1: {self.height1}\")\n",
    "            print(f\"Height2: {self.height2}\")\n",
    "            print(f\"Breadth: {self.breadth}\")\n",
    "            print(\"Perimeter formula: Height1 + Height2 + Breadth\")\n",
    "            print(f\"Perimeter of Triangle: {perimeter}\")\n",
    "        else:\n",
    "            print(\"Missing dimensions for perimeter calculation.\")\n"
   ]
  },
  {
   "cell_type": "code",
   "execution_count": 21,
   "id": "e877c2f6-536a-4437-a6c9-a1430d72947f",
   "metadata": {},
   "outputs": [
    {
     "name": "stdout",
     "output_type": "stream",
     "text": [
      "Height: 32\n",
      "Breadth: 34\n",
      "Area formula: (Height * Breadth) / 2\n",
      "Area of Triangle: 544.0\n",
      "Height1: 2\n",
      "Height2: 4\n",
      "Breadth: 4\n",
      "Perimeter formula: Height1 + Height2 + Breadth\n",
      "Perimeter of Triangle: 10\n"
     ]
    }
   ],
   "source": [
    "triangle = Triangle(height=32, breadth=34)\n",
    "triangle.calculate_area()\n",
    "\n",
    "triangle = Triangle(height1=2, height2=4, breadth=4)\n",
    "triangle.calculate_perimeter()\n"
   ]
  },
  {
   "cell_type": "code",
   "execution_count": null,
   "id": "07b63078-963f-4f0b-968a-c0f523c6eb5c",
   "metadata": {},
   "outputs": [],
   "source": []
  }
 ],
 "metadata": {
  "kernelspec": {
   "display_name": "Python [conda env:base] *",
   "language": "python",
   "name": "conda-base-py"
  },
  "language_info": {
   "codemirror_mode": {
    "name": "ipython",
    "version": 3
   },
   "file_extension": ".py",
   "mimetype": "text/x-python",
   "name": "python",
   "nbconvert_exporter": "python",
   "pygments_lexer": "ipython3",
   "version": "3.13.5"
  }
 },
 "nbformat": 4,
 "nbformat_minor": 5
}
