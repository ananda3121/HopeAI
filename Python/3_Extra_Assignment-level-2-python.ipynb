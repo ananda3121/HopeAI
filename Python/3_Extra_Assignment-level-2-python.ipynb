{
 "cells": [
  {
   "cell_type": "code",
   "execution_count": 14,
   "id": "ca176955-574a-44bb-a988-bb7ae21b1460",
   "metadata": {},
   "outputs": [
    {
     "name": "stdout",
     "output_type": "stream",
     "text": [
      "0\n",
      "1\n",
      "2\n",
      "3\n",
      "4\n",
      "5\n",
      "6\n",
      "7\n",
      "8\n",
      "9\n",
      "10\n",
      "11\n",
      "12\n",
      "13\n",
      "14\n",
      "15\n",
      "16\n",
      "17\n",
      "18\n",
      "19\n"
     ]
    }
   ],
   "source": [
    "values = range(0,20)\n",
    "for i in values:\n",
    "    print(i)"
   ]
  },
  {
   "cell_type": "code",
   "execution_count": 15,
   "id": "afb61c99-5bbc-4592-9636-93aabc619762",
   "metadata": {},
   "outputs": [
    {
     "name": "stdout",
     "output_type": "stream",
     "text": [
      "0 1 2 3 4 5 6 7 8 9 10 11 12 13 14 15 16 17 18 19 "
     ]
    }
   ],
   "source": [
    "values = range(0,20)\n",
    "for i in values:\n",
    "    print(i, end=' ')"
   ]
  },
  {
   "cell_type": "code",
   "execution_count": 22,
   "id": "6f9198fb-9bb0-4602-b1b6-bfbe802ae45e",
   "metadata": {},
   "outputs": [
    {
     "name": "stdout",
     "output_type": "stream",
     "text": [
      "Number of items in the list2:  7\n"
     ]
    }
   ],
   "source": [
    "lis = [10,20,14,55,42,87,76]\n",
    "print(\"Number of items in the list2: \", len(lis))"
   ]
  },
  {
   "cell_type": "code",
   "execution_count": 24,
   "id": "387150ac-c3f9-48ea-8e4b-4a082e068c57",
   "metadata": {},
   "outputs": [
    {
     "name": "stdout",
     "output_type": "stream",
     "text": [
      "A\n",
      "r\n",
      "t\n",
      "i\n",
      "f\n",
      "i\n",
      "c\n",
      "i\n",
      "a\n",
      "l\n",
      " \n",
      "I\n",
      "n\n",
      "t\n",
      "e\n",
      "l\n",
      "l\n",
      "i\n",
      "g\n",
      "e\n",
      "n\n",
      "c\n",
      "e\n"
     ]
    }
   ],
   "source": [
    "text = \"Artificial Intelligence\"\n",
    "for char in text:\n",
    "    print(char)"
   ]
  },
  {
   "cell_type": "code",
   "execution_count": 28,
   "id": "682b2303-b67a-4c42-b97c-40069863a17f",
   "metadata": {},
   "outputs": [
    {
     "name": "stdout",
     "output_type": "stream",
     "text": [
      "(1, 'welcome', 2, 'Hope')\n"
     ]
    }
   ],
   "source": [
    "tup = tuple([1, 'welcome', 2, 'Hope'])\n",
    "print(tup)"
   ]
  },
  {
   "cell_type": "code",
   "execution_count": 29,
   "id": "8e84a92a-f195-4367-a315-69c898f25522",
   "metadata": {},
   "outputs": [
    {
     "name": "stdout",
     "output_type": "stream",
     "text": [
      "(0, 1, 2, 3, 'python', 'HOPE')\n"
     ]
    }
   ],
   "source": [
    "tup1 = (0,1,2,3)\n",
    "tup2 = ('python','HOPE')\n",
    "tup3 = tup1 + tup2\n",
    "print(tup3)"
   ]
  },
  {
   "cell_type": "code",
   "execution_count": 32,
   "id": "6aa1ff66-185a-4614-8531-4215c4f64554",
   "metadata": {},
   "outputs": [
    {
     "name": "stdout",
     "output_type": "stream",
     "text": [
      "19  is odd\n",
      "25  is odd\n",
      "1  is odd\n"
     ]
    }
   ],
   "source": [
    "lis = [20,10,16,19,25,1,276,158]\n",
    "for num in lis:\n",
    "    if num%2 != 0:\n",
    "        print (num, \" is odd\")"
   ]
  },
  {
   "cell_type": "code",
   "execution_count": 33,
   "id": "af3a8bea-04b9-4a87-bfed-8ffb376211b7",
   "metadata": {},
   "outputs": [
    {
     "name": "stdout",
     "output_type": "stream",
     "text": [
      "20  is even\n",
      "10  is even\n",
      "16  is even\n",
      "276  is even\n",
      "188  is even\n"
     ]
    }
   ],
   "source": [
    "lis = [20,10,16,19,25,1,276,188]\n",
    "for num in lis:\n",
    "    if num%2 == 0:\n",
    "        print (num, \" is even\")"
   ]
  },
  {
   "cell_type": "code",
   "execution_count": null,
   "id": "b62afb71-3c87-4a46-8bee-8809c044734e",
   "metadata": {},
   "outputs": [],
   "source": []
  }
 ],
 "metadata": {
  "kernelspec": {
   "display_name": "Python [conda env:base] *",
   "language": "python",
   "name": "conda-base-py"
  },
  "language_info": {
   "codemirror_mode": {
    "name": "ipython",
    "version": 3
   },
   "file_extension": ".py",
   "mimetype": "text/x-python",
   "name": "python",
   "nbconvert_exporter": "python",
   "pygments_lexer": "ipython3",
   "version": "3.13.5"
  }
 },
 "nbformat": 4,
 "nbformat_minor": 5
}
